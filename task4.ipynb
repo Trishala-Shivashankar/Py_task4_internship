{
 "cells": [
  {
   "cell_type": "code",
   "execution_count": null,
   "id": "ed404aa8-11f5-4f38-ac7e-762b258a4efd",
   "metadata": {},
   "outputs": [],
   "source": [
    "!pip install flask"
   ]
  },
  {
   "cell_type": "code",
   "execution_count": 1,
   "id": "4f1472bc-fe89-4e31-8c95-2040d669f20a",
   "metadata": {},
   "outputs": [
    {
     "name": "stdout",
     "output_type": "stream",
     "text": [
      "Overwriting app.py\n"
     ]
    }
   ],
   "source": [
    "%%writefile app.py\n",
    "from flask import Flask, request, jsonify\n",
    "\n",
    "app = Flask(__name__)\n",
    "\n",
    "users = {}\n",
    "\n",
    "@app.route('/users', methods=['GET'])\n",
    "def get_users():\n",
    "    return jsonify(users)\n",
    "\n",
    "@app.route('/users/<user_id>', methods=['GET'])\n",
    "def get_user(user_id):\n",
    "    if user_id in users:\n",
    "        return jsonify({user_id: users[user_id]})\n",
    "    return jsonify({\"error\": \"User not found\"}), 404\n",
    "\n",
    "@app.route('/users', methods=['POST'])\n",
    "def add_user():\n",
    "    data = request.get_json()\n",
    "    user_id = str(data.get(\"id\"))\n",
    "    name = data.get(\"name\")\n",
    "    \n",
    "    if not user_id or not name:\n",
    "        return jsonify({\"error\": \"ID and name are required\"}), 400\n",
    "    \n",
    "    if user_id in users:\n",
    "        return jsonify({\"error\": \"User ID already exists\"}), 400\n",
    "    \n",
    "    users[user_id] = {\"name\": name}\n",
    "    return jsonify({\"message\": \"User added\", \"user\": {user_id: users[user_id]}}), 201\n",
    "\n",
    "@app.route('/users/<user_id>', methods=['PUT'])\n",
    "def update_user(user_id):\n",
    "    if user_id not in users:\n",
    "        return jsonify({\"error\": \"User not found\"}), 404\n",
    "    \n",
    "    data = request.get_json()\n",
    "    name = data.get(\"name\")\n",
    "    \n",
    "    if not name:\n",
    "        return jsonify({\"error\": \"Name is required\"}), 400\n",
    "    \n",
    "    users[user_id][\"name\"] = name\n",
    "    return jsonify({\"message\": \"User updated\", \"user\": {user_id: users[user_id]}})\n",
    "\n",
    "@app.route('/users/<user_id>', methods=['DELETE'])\n",
    "def delete_user(user_id):\n",
    "    if user_id in users:\n",
    "        del users[user_id]\n",
    "        return jsonify({\"message\": \"User deleted\"})\n",
    "    return jsonify({\"error\": \"User not found\"}), 404\n",
    "\n",
    "if __name__ == '__main__':\n",
    "    app.run(debug=True)\n"
   ]
  },
  {
   "cell_type": "code",
   "execution_count": null,
   "id": "5e464225-145a-4559-843b-bedca75c5c6d",
   "metadata": {},
   "outputs": [],
   "source": [
    "!python app.py"
   ]
  },
  {
   "cell_type": "code",
   "execution_count": null,
   "id": "1bb09989-36d8-446d-86b4-65b62e0a0c6d",
   "metadata": {},
   "outputs": [],
   "source": [
    "import requests\n",
    "\n",
    "response = requests.post(\"http://127.0.0.1:5000/users\", json={\"id\": \"1\", \"name\": \"Alice\"})\n",
    "print(response.json())"
   ]
  }
 ],
 "metadata": {
  "kernelspec": {
   "display_name": "Python 3 (ipykernel)",
   "language": "python",
   "name": "python3"
  },
  "language_info": {
   "codemirror_mode": {
    "name": "ipython",
    "version": 3
   },
   "file_extension": ".py",
   "mimetype": "text/x-python",
   "name": "python",
   "nbconvert_exporter": "python",
   "pygments_lexer": "ipython3",
   "version": "3.11.7"
  }
 },
 "nbformat": 4,
 "nbformat_minor": 5
}
